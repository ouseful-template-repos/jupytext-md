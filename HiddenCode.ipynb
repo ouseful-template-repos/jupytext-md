{
 "cells": [
  {
   "cell_type": "markdown",
   "metadata": {},
   "source": [
    "# Hidden Code\n",
    "\n",
    "This notebook / py file contains code cells that are marked as executable in the notebook but commented out in the `.py` file."
   ]
  },
  {
   "cell_type": "code",
   "execution_count": 1,
   "metadata": {},
   "outputs": [],
   "source": [
    "def hello(msg='Hello'):\n",
    "    print(msg)"
   ]
  },
  {
   "cell_type": "code",
   "execution_count": 2,
   "metadata": {
    "active": "ipynb"
   },
   "outputs": [],
   "source": [
    "#This cell is marked with cell metadata: \"active\": \"ipynb\"\n",
    "msg='active'\n",
    "#It should run as code in the notebook but not be loaded in as a py module"
   ]
  },
  {
   "cell_type": "code",
   "execution_count": 2,
   "metadata": {},
   "outputs": [
    {
     "name": "stdout",
     "output_type": "stream",
     "text": [
      "# ---\r\n",
      "# jupyter:\r\n",
      "#   jupytext:\r\n",
      "#     text_representation:\r\n",
      "#       extension: .py\r\n",
      "#       format_name: light\r\n",
      "#       format_version: '1.4'\r\n",
      "#       jupytext_version: 1.1.7\r\n",
      "#   kernelspec:\r\n",
      "#     display_name: Python 3\r\n",
      "#     language: python\r\n",
      "#     name: python3\r\n",
      "# ---\r\n",
      "\r\n",
      "# # Hidden Code\r\n",
      "#\r\n",
      "# This notebook / py file contains code cells that are marked as executable in the notebook but commented out in the `.py` file.\r\n",
      "\r\n",
      "def hello(msg='Hello'):\r\n",
      "    print(msg)\r\n",
      "\r\n",
      "# + {\"active\": \"ipynb\"}\r\n",
      "# #This cell is marked with cell metadata: \"active\": \"ipynb\"\r\n",
      "# msg='active'\r\n",
      "# #It should run as code in the notebook but not be loaded in as a py module\r\n"
     ]
    }
   ],
   "source": [
    "!cat ../py/HiddenCode.py"
   ]
  },
  {
   "cell_type": "code",
   "execution_count": null,
   "metadata": {},
   "outputs": [],
   "source": []
  }
 ],
 "metadata": {
  "jupytext": {
   "text_representation": {
    "extension": ".py",
    "format_name": "light",
    "format_version": "1.4",
    "jupytext_version": "1.1.7"
   }
  },
  "kernelspec": {
   "display_name": "Python 3",
   "language": "python",
   "name": "python3"
  },
  "language_info": {
   "codemirror_mode": {
    "name": "ipython",
    "version": 3
   },
   "file_extension": ".py",
   "mimetype": "text/x-python",
   "name": "python",
   "nbconvert_exporter": "python",
   "pygments_lexer": "ipython3",
   "version": "3.7.3"
  }
 },
 "nbformat": 4,
 "nbformat_minor": 2
}
